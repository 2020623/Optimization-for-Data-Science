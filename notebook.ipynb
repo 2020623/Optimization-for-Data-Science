{
  "nbformat": 4,
  "nbformat_minor": 0,
  "metadata": {
    "accelerator": "GPU",
    "colab": {
      "name": "Zeroth_Order_Methods_for_Adversarial_Machine_Learning.ipynb",
      "provenance": [],
      "collapsed_sections": [
        "PEYtRzzfUJAU",
        "10HCmNZ7ptig",
        "TpVmZOpBDoa4",
        "01atVGk6Doa_",
        "A905eVUuNBur",
        "qdBL7n1GvnAt",
        "MYrOXChDvLin",
        "t05RNS_Ht0Ff",
        "2waFyJByt63p",
        "tUE1GX8O5OZM",
        "069Zq0ik9X4A",
        "TwqLL6_AC7f9",
        "LbPOG2bZQUMV",
        "pxxoS-pBQXMm",
        "dDkucogS6MTi",
        "IzRhp_2AjBT5",
        "zl3CPWOSSL-x"
      ],
      "machine_shape": "hm"
    },
    "kernelspec": {
      "display_name": "Python 3",
      "language": "python",
      "name": "python3"
    },
    "language_info": {
      "codemirror_mode": {
        "name": "ipython",
        "version": 3
      },
      "file_extension": ".py",
      "mimetype": "text/x-python",
      "name": "python",
      "nbconvert_exporter": "python",
      "pygments_lexer": "ipython3",
      "version": "3.8.8"
    }
  },
  "cells": [
    {
      "cell_type": "markdown",
      "metadata": {
        "id": "V1Z6U-1BHzQl"
      },
      "source": [
        "Federico Zanotti (ID: 2007716) - Lorenzo Corrado (ID: 2020623)\n",
        "\n",
        "# Zeroth Order Methods for Adversarial Machine Learning\n",
        "### Optimization for Data Science Project\n",
        "\n",
        "September 16, 2021\n",
        "\n",
        "\n",
        "\n",
        "\n",
        "\n"
      ]
    },
    {
      "cell_type": "markdown",
      "metadata": {
        "id": "PEYtRzzfUJAU"
      },
      "source": [
        "## Import and Data preparation\n"
      ]
    },
    {
      "cell_type": "code",
      "metadata": {
        "id": "Z8ZOLjCk0cai"
      },
      "source": [
        "# Import the libraries\n",
        "import numpy as np\n",
        "import matplotlib.pyplot as plt\n",
        "import tensorflow as tf\n",
        "from tensorflow import keras\n",
        "from tensorflow.keras import layers\n",
        "from keras import backend as K\n",
        "from keras.optimizers import Optimizer\n",
        "from keras.models import Model\n",
        "from scipy.special import softmax\n",
        "from scipy.optimize import minimize\n",
        "from scipy.special import softmax\n",
        "from tqdm import tqdm\n",
        "import random\n",
        "import gzip\n",
        "import urllib.request\n",
        "import time\n",
        "import warnings\n",
        "import os\n",
        "from prettytable import PrettyTable\n",
        "\n",
        "\n",
        "# Remove warnings in output\n",
        "warnings.filterwarnings(\"ignore\")\n",
        "\n",
        "# Set seed\n",
        "np.random.seed([2021])"
      ],
      "execution_count": null,
      "outputs": []
    },
    {
      "cell_type": "code",
      "metadata": {
        "id": "sPNwi2m10can"
      },
      "source": [
        "# Download MNIST dataset\n",
        "(x_train, y_train), (x_test, y_test) = tf.keras.datasets.mnist.load_data(path=\"mnist.npz\")\n",
        "\n",
        "# Model/data parameters\n",
        "num_classes = 10\n",
        "input_shape = (784,)\n",
        "\n",
        "# Scale images in [0,1] range\n",
        "x_train = x_train.astype(\"float32\")/255\n",
        "x_test = x_test.astype(\"float32\")/255\n",
        "\n",
        "# Make sure images have shape (28,28,1)\n",
        "# x_train = np.expand_dims(x_train, -1)\n",
        "# x_test = np.expand_dims(x_test, -1)\n",
        "\n",
        "x_train = x_train.reshape((60000, 784))\n",
        "x_test = x_test.reshape((10000, 784))\n",
        "\n",
        "# Splitting training set in training and valid\n",
        "validation_size = 5000\n",
        "\n",
        "x_val = x_train[:validation_size]\n",
        "y_val = y_train[:validation_size]\n",
        "x_train = x_train[validation_size:]\n",
        "y_train = y_train[validation_size:]\n",
        "\n",
        "# One-hot encoding\n",
        "y_train = keras.utils.to_categorical(y_train, num_classes)\n",
        "y_val = keras.utils.to_categorical(y_val, num_classes)\n",
        "y_test = keras.utils.to_categorical(y_test, num_classes)"
      ],
      "execution_count": null,
      "outputs": []
    },
    {
      "cell_type": "code",
      "metadata": {
        "id": "BBqqabva0cao"
      },
      "source": [
        "# Define DNN architecture\n",
        "model = keras.Sequential()\n",
        "model.add(tf.keras.Input(shape=input_shape))\n",
        "model.add(tf.keras.layers.Reshape((28,28,1), input_shape=input_shape))\n",
        "model.add(tf.keras.layers.Conv2D(32, kernel_size=(3, 3), activation=\"relu\"))\n",
        "model.add(tf.keras.layers.Conv2D(32, kernel_size=(3, 3), activation=\"relu\"))\n",
        "model.add(tf.keras.layers.MaxPooling2D(pool_size=(2, 2)))\n",
        "model.add(tf.keras.layers.Conv2D(64, kernel_size=(3, 3), activation=\"relu\"))\n",
        "model.add(tf.keras.layers.Conv2D(64, kernel_size=(3, 3), activation=\"relu\"))\n",
        "model.add(tf.keras.layers.MaxPooling2D(pool_size=(2, 2)))\n",
        "model.add(tf.keras.layers.Flatten())\n",
        "model.add(tf.keras.layers.Dense(200, activation=\"relu\"))\n",
        "model.add(tf.keras.layers.Dense(200, activation=\"relu\"))\n",
        "model.add(tf.keras.layers.Dense(num_classes, name=\"last_dense\"))\n",
        "model.add(tf.keras.layers.Activation(\"softmax\"))"
      ],
      "execution_count": null,
      "outputs": []
    },
    {
      "cell_type": "code",
      "metadata": {
        "id": "lvSiSVcQ1w1l"
      },
      "source": [
        "# # Take the output of the last layer before the softmax operation\n",
        "dnn = Model(inputs=model.input, outputs=model.get_layer(\"last_dense\").output)"
      ],
      "execution_count": null,
      "outputs": []
    },
    {
      "cell_type": "code",
      "metadata": {
        "id": "zciAo4vY0Wb_"
      },
      "source": [
        "model.compile(loss=\"categorical_crossentropy\", optimizer=\"adam\", metrics=[\"accuracy\"])\n",
        "\n",
        "## github link: https://github.com/IBM/ZOSVRG-BlackBox-Adv/tree/master/models\n",
        "## Loads the weights\n",
        "path = \"/content/mnist\"\n",
        "if os.path.isfile(path):\n",
        "  model.load_weights(path) \n",
        "\n",
        "else:\n",
        "  print(f\"file {path} does not exist\")\n",
        "\n"
      ],
      "execution_count": null,
      "outputs": []
    },
    {
      "cell_type": "markdown",
      "metadata": {
        "id": "10HCmNZ7ptig"
      },
      "source": [
        "## Utility Function"
      ]
    },
    {
      "cell_type": "code",
      "metadata": {
        "id": "lN1yh4uiDoa1"
      },
      "source": [
        "# Definition of the objective function to be minimized #(FOR ALL THE SAMPLES)\n",
        "def F(x, y_true):\n",
        "  \"\"\"\n",
        "  Loss function for all the examples\n",
        "\n",
        "  Input:\n",
        "  - x: images\n",
        "  - y_true: true labels of the images\n",
        "\n",
        "  \"\"\"\n",
        "  f = dnn.predict(x)\n",
        "  f_yi = np.max(f*y_true, axis=1)\n",
        "  f_j = np.max(f*np.where(y_true == 1, -1e10, 1), axis=1)\n",
        "  \n",
        "  return np.mean(np.where(f_yi - f_j > 0, f_yi - f_j, 0))\n",
        "\n",
        "def F_Par(x, y_true):\n",
        "  \"\"\"\n",
        "  Loss function for only one example\n",
        "\n",
        "  Input:\n",
        "  - x: image\n",
        "  - y: true label of the image\n",
        "\n",
        "  \"\"\"\n",
        "  f = dnn.predict(x)\n",
        "  f_yi = np.max(f*y_true, axis=1)\n",
        "  f_j = np.max(f*np.where(y_true == 1, -1e10, 1), axis=1)\n",
        "\n",
        "  return np.where(f_yi-f_j > 0, f_yi-f_j, 0)"
      ],
      "execution_count": null,
      "outputs": []
    },
    {
      "cell_type": "code",
      "metadata": {
        "id": "opRJFT_7S3Z8"
      },
      "source": [
        "# Extract n images from the same class\n",
        "def extract_images(n, c):\n",
        "  \"\"\"\n",
        "  Extract some images of the same class\n",
        "\n",
        "  Input:\n",
        "  - n: number of images to extract\n",
        "  - c: label\n",
        "\n",
        "  \"\"\"\n",
        "  x_extr = np.copy(x_test[y_test.argmax(axis=1)==c][:n])\n",
        "  y_extr = np.copy(y_test[y_test.argmax(axis=1)==c][:n])\n",
        "  \n",
        "  return x_extr, y_extr"
      ],
      "execution_count": null,
      "outputs": []
    },
    {
      "cell_type": "code",
      "metadata": {
        "id": "thqa7_Emp4va"
      },
      "source": [
        "def get_data(n, c):\n",
        "  \"\"\"\n",
        "\n",
        "  Get n images of same class \n",
        "\n",
        "  Input:\n",
        "  -n: sample size\n",
        "  -c: label of image\n",
        "\n",
        "  \"\"\"\n",
        "  img_in, y_true_in = extract_images(n,c)\n",
        "  x_ori = np.copy(img_in)\n",
        "  x = np.copy(x_ori)\n",
        "  return x, x_ori, y_true_in "
      ],
      "execution_count": null,
      "outputs": []
    },
    {
      "cell_type": "code",
      "metadata": {
        "id": "QYVhZRt6wfzP"
      },
      "source": [
        "def stop_attack(x, y_true):\n",
        "  \"\"\" \n",
        "  Stopping criterion\n",
        "\n",
        "  Input: \n",
        "  - x: images\n",
        "  - y_true: true label of images\n",
        "\n",
        "  \"\"\"\n",
        "  success = dnn.predict(x).argmax(axis=1)\n",
        "  return sum(success==y_true.argmax(axis=1))==0\n"
      ],
      "execution_count": null,
      "outputs": []
    },
    {
      "cell_type": "code",
      "metadata": {
        "id": "-dN2N5Qy6-0r"
      },
      "source": [
        "def RandGradEst(x, y_true, v):\n",
        "  \"\"\"\n",
        "  Two-point (gaussian) random gradient estimator\n",
        "\n",
        "  Input:\n",
        "  - x: image\n",
        "  - y_true: true label of the image\n",
        "  - v: smoothing parameter \n",
        "  \"\"\"\n",
        "  u = np.random.standard_normal((1,d))\n",
        "  F_plus = F(x + v*u, y_true)\n",
        "  F_ = F(x, y_true)\n",
        "  \n",
        "  return (d/v)*(F_plus - F_)*u"
      ],
      "execution_count": null,
      "outputs": []
    },
    {
      "cell_type": "code",
      "metadata": {
        "id": "OWcMXu6iFZwx"
      },
      "source": [
        "def Avg_RandGradEst(x, y_true, q, v):\n",
        "  \"\"\"\n",
        "  Averaged (gaussian) random gradient estimator\n",
        "\n",
        "  Input:\n",
        "  - x: image\n",
        "  - y_true: true label of the image\n",
        "  - q: number of random directions\n",
        "  - v: smoothing parameter\n",
        "  \"\"\"\n",
        "  g = 0\n",
        "  u = np.random.standard_normal((q,d))\n",
        "  F_ = F(x, y_true)\n",
        "  for j in range(q):\n",
        "    F_plus = F(x + v*u[j], y_true)\n",
        "    g = g + (F_plus - F_)*u[j]\n",
        "\n",
        "  return (d/(v*q))*g"
      ],
      "execution_count": null,
      "outputs": []
    },
    {
      "cell_type": "code",
      "metadata": {
        "id": "cEuEQWPKr-0E"
      },
      "source": [
        "def CoordGradEst(x, y_true, mu):\n",
        "  \"\"\"\n",
        "  Coordinate-wise gradient estimator\n",
        "  \n",
        "  Input:\n",
        "  - x: images\n",
        "  - y_true: true labels of the images\n",
        "  - mu: smoothing parameter\n",
        "\n",
        "  \"\"\"\n",
        "  q = 0\n",
        "  for j in tqdm(range(d)):\n",
        "    F_plus = F(x + mu*e(j,d), y_true)\n",
        "    F_minus = F(x - mu*e(j,d), y_true)\n",
        "    diff = F_plus - F_minus\n",
        "    q = q + (diff)*e(j,d)\n",
        "   \n",
        "  return q/(2*mu)"
      ],
      "execution_count": null,
      "outputs": []
    },
    {
      "cell_type": "code",
      "metadata": {
        "id": "yshr05Pw_l8d"
      },
      "source": [
        "def attack_success_rate(x, y):\n",
        "  \"\"\"\n",
        "  Calculate in percentage the Attack Success Rate of x\n",
        "\n",
        "  Input:\n",
        "  - x: images\n",
        "  - y: true labels of images\n",
        "  \"\"\"\n",
        "  predicted=softmax(dnn.predict(x)).argmax(axis=1)\n",
        "  # print(predicted)\n",
        "  true_values=y.argmax(axis=1)\n",
        "  adversarial=len(predicted)-sum(predicted==true_values)\n",
        "  wrong_label=(adversarial/len(predicted))*100\n",
        "  return round(wrong_label,1)\n"
      ],
      "execution_count": null,
      "outputs": []
    },
    {
      "cell_type": "code",
      "metadata": {
        "id": "ePga3_-GgfYu"
      },
      "source": [
        "def plot_all(loss_ZSCG, loss_FZFW, loss_FZCGS, epochs, n, title=\"\",savefig=\"\"):\n",
        "  \"\"\"\n",
        "  Utility function to plot the loss of three algorithms\n",
        "  \n",
        "  Input:\n",
        "  - loss_ZSCG: loss of methods ZSCG\n",
        "  - loss_FZFW: loss of methods FZFW\n",
        "  - loss_FZSCG: loss of methods FZSCG\n",
        "  - epochs: number of iterations\n",
        "  - n: sample size\n",
        "\n",
        "  \"\"\"\n",
        "  plt.figure(figsize=(10,8))\n",
        "  plt.plot(loss_ZSCG, label=f\"ZSCG with {n} examples\")\n",
        "  plt.plot(loss_FZFW, label=f\"FZFW with {n} examples\")\n",
        "  plt.plot(loss_FZCGS, label=f\"FZCGS with {n} examples\")\n",
        "  plt.grid(\"on\")\n",
        "  plt.legend()\n",
        "  plt.xticks(np.arange(0,epochs+10,10))\n",
        "  plt.xlabel(\"# iterations\")\n",
        "  plt.ylabel(\"loss\")\n",
        "  if title!=\"\":\n",
        "    plt.title(title)\n",
        "  if savefig != \"\":\n",
        "    plt.savefig(savefig)\n",
        "  plt.show()\n",
        "\n"
      ],
      "execution_count": null,
      "outputs": []
    },
    {
      "cell_type": "code",
      "metadata": {
        "id": "3LEJ7bvxtiMv"
      },
      "source": [
        "def nice_table(x_mod, y_true, param1, param2):\n",
        "  \"\"\"\n",
        "  Utility function to visualize a nice plot for the grid search of Hyperparams\n",
        "  \n",
        "  Input:\n",
        "  - x_mod: images perturbated\n",
        "  - y_true: true label of images\n",
        "  - param1: (name of param1, value of param1)\n",
        "  - param1: (name of param2, value of param2)\n",
        "  \"\"\"\n",
        "  param1_list = param1[1]\n",
        "  param2_list = param2[1]\n",
        "  j=0\n",
        "  i=0\n",
        "  t= PrettyTable([param1[0], param2[0], \"ASR (%)\"])\n",
        "  for el in x_mod:\n",
        "    asr=attack_success_rate(el, y_true)\n",
        "    if i==len(param2_list):\n",
        "      i=0\n",
        "      p2 = param2_list[i]\n",
        "      j +=1\n",
        "      p1=param1_list[j]\n",
        "    else:\n",
        "      p2 = param2_list[i]\n",
        "      p1=param1_list[j]\n",
        "    i +=1\n",
        "    \n",
        "    t.add_row([f\" {p1}\", f\" {p2}\", asr])\n",
        "  return t"
      ],
      "execution_count": null,
      "outputs": []
    },
    {
      "cell_type": "markdown",
      "metadata": {
        "id": "TpVmZOpBDoa4"
      },
      "source": [
        "## Algorithm 1. Zeroth-Order Stochastic Conditional Gradient Method (ZSCG)\n",
        "\n",
        "K. Balasubramanian et al., 2018."
      ]
    },
    {
      "cell_type": "code",
      "metadata": {
        "id": "Ey9R0yUtPU4W"
      },
      "source": [
        "def Avg_RandGradEst_Par(x, y_true, q, v, d):\n",
        "  \"\"\"\n",
        "  Averaged (gaussian) random gradient estimator in parallel\n",
        "\n",
        "  Input:\n",
        "  - x: image\n",
        "  - y_true: true label of the image\n",
        "  - q: number of random directions\n",
        "  - v: smoothing parameter\n",
        "  \"\"\"\n",
        "  g = 0\n",
        "  u = np.random.standard_normal((q,d))\n",
        "  x_par_plus = np.array([x + v*u[j] for j in range(q)]).reshape((q,d))\n",
        "  diff = F_Par(x_par_plus, y_true) - F(x, y_true)\n",
        "\n",
        "  for j in range(q):\n",
        "    g = g + (diff[j]/v) * u[j] \n",
        "  \n",
        "  return (d/(q*v))*g"
      ],
      "execution_count": null,
      "outputs": []
    },
    {
      "cell_type": "code",
      "metadata": {
        "id": "j-A6eK7loU5O"
      },
      "source": [
        "def ZSCG(N, d, s, m_k, x, y_true_in,v=-1,alpha=-1, B=1,verbose=True, clip=False):\n",
        "  \"\"\"\n",
        "\n",
        "  Zeroth-Order Stochastic Gradient Method\n",
        "\n",
        "  Input:\n",
        "  - N: number of epochs\n",
        "  - d: dimension of data\n",
        "  - s: distorsion\n",
        "  - x: images\n",
        "  - y_true_in: true label of images\n",
        "  - v: smoothing parameter \n",
        "  - alpha: step size\n",
        "  - B: parameter of convergence theory\n",
        "  - verbose: True/False for printing computations\n",
        "  - clip: True/False activate clipping\n",
        "  \n",
        "  \"\"\"\n",
        "  if v==-1:\n",
        "    v = np.sqrt(2/(N*(d+3)**3))\n",
        "  if alpha==-1:\n",
        "    alpha = 1/np.sqrt(N)\n",
        "\n",
        "  x_ori=np.copy(x)\n",
        "  loss_ZSCG = []\n",
        "  perturbations = []\n",
        "  loss_ZSCG.append(F(x, y_true_in))\n",
        "  if verbose:\n",
        "    print(\"Epoch:\", 0, \"Loss:\", F(x_ori, y_true_in), \"Distortion:\", np.max(np.abs(x-x_ori)))\n",
        "  for k in range(N):\n",
        "      \n",
        "    # Get the gradient estimate\n",
        "    v_k = 0\n",
        "    for i in tqdm(range(x.shape[0]), disable= not verbose):\n",
        "      v_k = v_k + Avg_RandGradEst_Par(x[i:i+1], y_true_in[i:i+1], m_k, v, d)    \n",
        "    v_k = (1/n)*v_k\n",
        "\n",
        "    x_k = -s * np.sign(v_k) + x_ori # Solve the LMO\n",
        "    x = (1 - alpha)*x+ alpha*x_k\n",
        "    if clip:\n",
        "      x= x_ori + np.clip((x-x_ori), 0, 1)\n",
        "\n",
        "    perturbations.append(x)\n",
        "    loss_ZSCG.append(F(x, y_true_in))\n",
        "\n",
        "    if verbose:\n",
        "      print(\"-\"*100)\n",
        "      print(\"Epoch:\", k+1, \"Loss:\", loss_ZSCG[k], \"Distortion:\", np.round(np.max(np.abs(x-x_ori)),5), \"Elapsed Time:\")\n",
        "\n",
        "    if stop_attack(x, y_true_in):\n",
        "      print(\"Attack successful! stopping computation...\")\n",
        "      return loss_ZSCG, x\n",
        "\n",
        "  ZSCG_x_perturbated = x\n",
        "\n",
        "  print(\"ZSCG Final loss = \", loss_ZSCG[-1])\n",
        "  return loss_ZSCG, ZSCG_x_perturbated, perturbations"
      ],
      "execution_count": null,
      "outputs": []
    },
    {
      "cell_type": "markdown",
      "metadata": {
        "id": "01atVGk6Doa_"
      },
      "source": [
        "## Algorithm 2. Faster Zeroth-Order Frank-Wolfe Method (FZFW)\n",
        "Gao et al., 2020."
      ]
    },
    {
      "cell_type": "code",
      "metadata": {
        "id": "Z09tgnWpsPJG"
      },
      "source": [
        "def e(i, d):\n",
        "  \"\"\"\n",
        "  Orthogonal basis vector\n",
        "\n",
        "  Input:\n",
        "  - i: index\n",
        "  - d: dimensions\n",
        "  \n",
        "  \"\"\"\n",
        "  ei = np.zeros(d)\n",
        "  ei[i] = 1\n",
        "  return ei"
      ],
      "execution_count": null,
      "outputs": []
    },
    {
      "cell_type": "code",
      "metadata": {
        "id": "6gjXRr8DuiaW"
      },
      "source": [
        "def CoordGradEst_Par(x, y_true, mu,d):\n",
        "  \"\"\"\n",
        "  Coordinate-wise gradient estimator in parallel\n",
        "\n",
        "  Input:\n",
        "  - x: image\n",
        "  - y_true: true label of the image\n",
        "  - mu: smoothing parameter\n",
        "  \n",
        "  \"\"\"\n",
        "  x_par_plus = np.array([x + mu*e(j,d) for j in range(d)]).reshape(d,d)\n",
        "  x_par_minus = np.array([x - mu*e(j,d) for j in range(d)]).reshape(d,d)\n",
        "  diff = F_Par(x_par_plus, y_true) - F_Par(x_par_minus, y_true)\n",
        "  \n",
        "  q = 0\n",
        "  for j in range(d):\n",
        "    q = q + (diff[j])*(e(j,d)) \n",
        "    \n",
        "  return (1/(2*mu))*q"
      ],
      "execution_count": null,
      "outputs": []
    },
    {
      "cell_type": "code",
      "metadata": {
        "id": "dTs88TOUqZc5"
      },
      "source": [
        "def FZFW(K,d,n,s,gamma, mu,x,y_true_in, verbose=True, clip=False): \n",
        "  \"\"\"\n",
        "  Faster Zeroth-Order Frank-Wolfe Method\n",
        "  \n",
        "  Input:\n",
        "  - K: number of epochs\n",
        "  - d: dimension of data\n",
        "  - n: sample size\n",
        "  - s: distorsion\n",
        "  - gamma: step size \n",
        "  - mu: smoothing parameter \n",
        "  - x: images\n",
        "  - y_true_in: true label of images\n",
        "  - verbose: True/False for printing computations\n",
        "  - clip: True/False activate clipping\n",
        "  \n",
        "  \"\"\"\n",
        "  s_1=n\n",
        "  q = s_2 = int(np.sqrt(n))\n",
        "  if gamma==-1:\n",
        "    gamma = 1/np.sqrt(K)\n",
        "  if mu==-1:\n",
        "    mu = 1/np.sqrt(d*K)\n",
        "  x_ori=np.copy(x)\n",
        "\n",
        "\n",
        "  loss_FZFW = []\n",
        "  perturbations=[]\n",
        "  loss_FZFW.append(F(x_ori, y_true_in))\n",
        "  if verbose:\n",
        "    print(\"Epoch:\", 0, \"Loss:\", F(x_ori, y_true_in), \"Distortion:\", np.max(np.abs(x-x_ori)))\n",
        "    print(\"-\"*100)\n",
        "\n",
        "\n",
        "  for k in range(K):\n",
        "    if (k % q == 0):\n",
        "\n",
        "      v_k = 0\n",
        "      for i in tqdm(range(s_1), disable= not verbose):\n",
        "        v_k = v_k + CoordGradEst_Par(x[i:i+1], y_true_in[i:i+1], mu,d)\n",
        "      v_k=v_k/s_1\n",
        "      v_k_1 = v_k\n",
        "\n",
        "    else:\n",
        "\n",
        "\n",
        "\n",
        "      v_k = 0\n",
        "      s2_idx = np.random.randint(0, n, s_2) \n",
        "\n",
        "      for idx in tqdm(s2_idx,  disable= not verbose):\n",
        "        v_k = v_k + CoordGradEst_Par(x[idx:idx+1], y_true_in[idx:idx+1], mu,d) - CoordGradEst_Par(x_k_1[idx:idx+1], y_true_in[idx:idx+1], mu,d) + v_k_1\n",
        "      v_k = (1/s_2) * v_k\n",
        "      v_k_1 = v_k\n",
        "\n",
        "\n",
        "\n",
        "    x_k_1 = np.copy(x)\n",
        "    u_k = -s * np.sign(v_k) + x_ori # Solve the LMO\n",
        "    d_k = u_k - x\n",
        "    x = x + gamma*d_k\n",
        "\n",
        "\n",
        "    if clip:\n",
        "      x= x_ori + np.clip((x-x_ori), 0, 1)\n",
        "    \n",
        "    perturbations.append(x)\n",
        "    loss_FZFW.append(F(x, y_true_in))\n",
        "\n",
        "    if verbose:\n",
        "      print(\"Epoch:\", k+1, \"Loss:\", loss_FZFW[k+1], \"Distortion:\", np.round(np.max(np.abs(x-x_ori)),5))\n",
        "      print(\"-\"*100)\n",
        "\n",
        "    if stop_attack(x, y_true_in):\n",
        "      print(\"Attack successful! stopping computation...\")\n",
        "      return loss_FZFW, x\n",
        "    \n",
        "\n",
        " \n",
        "  FZFW_x_perturbated = x\n",
        "\n",
        "  print(\"FZFW Final loss = \", loss_FZFW[-1])\n",
        "\n",
        "  return loss_FZFW, FZFW_x_perturbated, perturbations\n"
      ],
      "execution_count": null,
      "outputs": []
    },
    {
      "cell_type": "markdown",
      "metadata": {
        "id": "A905eVUuNBur"
      },
      "source": [
        "## Algorithm 3. Faster Zeroth-Order Conditional Gradient Sliding Method (FZCGS)\n",
        "\n",
        "Gao et al., 2020."
      ]
    },
    {
      "cell_type": "code",
      "metadata": {
        "id": "OPLEWOo3n7wC"
      },
      "source": [
        "def CondG(g, u, gamma, eta, x_ori, s, d):\n",
        "  \"\"\"\n",
        "  Conditional Gradient Sliding Algorithm\n",
        "  \n",
        "  Input:\n",
        "  - g: gradient\n",
        "  - u: images perturbated\n",
        "  - eta: threshold parameter\n",
        "  - x_ori: images without perturbations\n",
        "  - s: distorsion\n",
        "  - d: dimension of images\n",
        "\n",
        "  \"\"\"\n",
        "  t=1\n",
        "  u_t=u\n",
        "  \n",
        "  while (True):\n",
        "    grad = g + (1/gamma)*(u_t-u)\n",
        "    v = -s * np.sign(g) + x_ori\n",
        "    V = np.dot(grad, (u_t-v).T)\n",
        "    if (np.max(V) <= eta):\n",
        "      return u_t\n",
        "    if t==100:\n",
        "      return u_t\n",
        "\n",
        "    else:\n",
        "      \n",
        "      d = v-u_t\n",
        "      alpha = np.dot((1/gamma) * (u-u_t)-g, d.T) / ((1/gamma)*np.dot(d, d.T))\n",
        "      alpha = np.min(alpha) \n",
        "      if (alpha > 1):\n",
        "        alpha = 1     \n",
        "      u_t = (1-alpha)*u_t + alpha*v\n",
        "      t = t+1\n",
        "  \n"
      ],
      "execution_count": null,
      "outputs": []
    },
    {
      "cell_type": "code",
      "metadata": {
        "id": "lcjEpu8VnnJq"
      },
      "source": [
        "def FZCGS(K,d,n,s,gamma, mu, eta, x,y_true_in, verbose=True, clip=False):\n",
        "  \"\"\"\n",
        "  Faster Zeroth-Order Conditional Gradient Method\n",
        "  \n",
        "  Input:\n",
        "  - K: number of epochs\n",
        "  - d: dimension of data\n",
        "  - n: sample size\n",
        "  - s: distorsion\n",
        "  - gamma: step size \n",
        "  - mu: smoothing parameter \n",
        "  - eta: treshold parameter \n",
        "  - x: images\n",
        "  - y_true_in: true label of images\n",
        "  - verbose: True/False for printing computations\n",
        "  - clip: True/False activate clipping\n",
        "  \n",
        "  \"\"\"\n",
        "  s_1 = n\n",
        "  q = s_2 = int(np.sqrt(n))\n",
        "  if gamma==-1:\n",
        "    gamma = 1/np.sqrt(K)\n",
        "  if mu==-1:\n",
        "    mu = 1/np.sqrt(d*K)\n",
        "  if eta==-1:\n",
        "    eta = 1/K\n",
        "  x_ori=np.copy(x)\n",
        "\n",
        "\n",
        "  loss_FZCGS = []\n",
        "  perturbations=[]\n",
        "  loss_FZCGS.append(F(x_ori, y_true_in))\n",
        "  if verbose:\n",
        "    print(\"Epoch:\", 0, \"Loss:\", F(x_ori, y_true_in), \"Distortion:\", np.max(np.abs(x-x_ori)))\n",
        "    print(\"-\"*100)\n",
        "\n",
        "  for k in range(K):\n",
        "    \n",
        "    if (k % q == 0):\n",
        "      \n",
        "\n",
        "      v_k = 0\n",
        "      for i in tqdm(range(s_1), disable=not verbose):\n",
        "        v_k = v_k + CoordGradEst_Par(x[i:i+1], y_true_in[i:i+1], mu,d)\n",
        "      v_k=v_k/s_1\n",
        "      v_k_1 = v_k\n",
        "\n",
        "    else:\n",
        "    \n",
        "\n",
        "      v_k = 0\n",
        "      s2_idx = np.random.randint(0, n, s_2) \n",
        "    \n",
        "      for idx in tqdm(s2_idx,  disable= not verbose):\n",
        "        # idx = np.random.randint(0,n)\n",
        "        v_k = v_k + CoordGradEst_Par(x[idx:idx+1], y_true_in[idx:idx+1], mu, d) - CoordGradEst_Par(x_k_1[idx:idx+1], y_true_in[idx:idx+1], mu,d) + v_k_1\n",
        "      v_k = (1/s_2) * v_k\n",
        "      v_k_1 = v_k\n",
        "\n",
        "\n",
        "    x_k_1 = np.copy(x)\n",
        "    x = CondG(v_k, x, gamma, eta, x_ori, s, d) # Cong procedure\n",
        "\n",
        "\n",
        "    if clip:\n",
        "      x= x_ori + np.clip((x-x_ori), 0, 1)\n",
        "    perturbations.append(x)\n",
        "    loss_FZCGS.append(F(x, y_true_in))\n",
        "    if verbose:\n",
        "      print(\"-\"*100)\n",
        "      print(\"Epoch:\", k+1, \"Loss:\", loss_FZCGS[k], \"Distortion:\", np.round(np.max(np.abs(x-x_ori)),5))\n",
        "    if stop_attack(x, y_true_in):\n",
        "      print(\"Attack successful! stopping computation...\")\n",
        "      return loss_FZCGS, x\n",
        "    \n",
        "\n",
        "\n",
        "  FZCGS_x_perturbated = x\n",
        "\n",
        "  print(\"FZCGS Final loss = \", loss_FZCGS[-1])\n",
        "\n",
        "  return loss_FZCGS, FZCGS_x_perturbated, perturbations"
      ],
      "execution_count": null,
      "outputs": []
    },
    {
      "cell_type": "markdown",
      "metadata": {
        "id": "ive_cYq1dR0b"
      },
      "source": [
        "## Experiments\n",
        "\n"
      ]
    },
    {
      "cell_type": "markdown",
      "metadata": {
        "id": "EkrIuYiLTymi"
      },
      "source": [
        "### More Examples"
      ]
    },
    {
      "cell_type": "markdown",
      "metadata": {
        "id": "iYf4q_yOT1r9"
      },
      "source": [
        "#### Example same class"
      ]
    },
    {
      "cell_type": "code",
      "metadata": {
        "id": "V_n5WApaFjWm"
      },
      "source": [
        "n=512\n",
        "x, x_ori, y_true_in = get_data(n, 4)\n",
        "epochs=200\n"
      ],
      "execution_count": null,
      "outputs": []
    },
    {
      "cell_type": "code",
      "metadata": {
        "id": "ygWXqgLkUiZo"
      },
      "source": [
        "F(x, y_true_in)"
      ],
      "execution_count": null,
      "outputs": []
    },
    {
      "cell_type": "code",
      "metadata": {
        "id": "cIifX4B1IbnD"
      },
      "source": [
        "loss_Z, x_Z, p1=ZSCG(epochs, 784, 0.1, 1, x, y_true_in,verbose=True)\n",
        "loss_FZ, x_FZ,p2=FZFW(epochs, 784,n, 0.1,-1,-1 ,x, y_true_in, verbose=True)\n",
        "loss_FZC, x_FZC,p3=FZCGS(epochs, 784,n, 0.1, -1,-1,-1,x, y_true_in, verbose=True)\n"
      ],
      "execution_count": null,
      "outputs": []
    },
    {
      "cell_type": "code",
      "metadata": {
        "id": "j9-dV2r0cblw"
      },
      "source": [
        "plot_all(loss_Z, loss_FZ, loss_FZC, epochs, n, savefig=\"final_sameclass.jpg\")"
      ],
      "execution_count": null,
      "outputs": []
    },
    {
      "cell_type": "code",
      "metadata": {
        "id": "6SbqhXwSKTO7"
      },
      "source": [
        "from tabulate import tabulate\n",
        "asr_alg1=attack_success_rate(x_Z, y_true_in)\n",
        "asr_alg2=attack_success_rate(x_FZ, y_true_in)\n",
        "asr_alg3=attack_success_rate(x_FZC, y_true_in)\n",
        "\n",
        "\n",
        "print(tabulate([['ZSCG', asr_alg1], ['FZFW', asr_alg2], ['FZF-CGS', asr_alg3]], headers=['Algorithm', 'ASR (%)'], tablefmt='orgtbl'))"
      ],
      "execution_count": null,
      "outputs": []
    },
    {
      "cell_type": "code",
      "metadata": {
        "id": "iEZEKnyxMcyb"
      },
      "source": [
        "n_to_show=9\n",
        "idx= random.sample(range(0, n), n_to_show)\n",
        "print(idx)\n",
        "final = {\"ZSCG\": x_Z[idx], \"FZFW\": x_FZ[idx], \"FZCGS\": x_FZC[idx]}\n",
        "x_toshow=x[idx]\n",
        "true_label =y_true_in[idx].argmax(axis=1)\n",
        "\n",
        "fig, ax = plt.subplots(4, n_to_show, figsize=(30,18))\n",
        "for i in range(n_to_show):\n",
        "  ax[0, i].imshow(x_toshow[i:i+1].reshape(28,28), cmap=\"gray\")\n",
        "  ax[0,i].set_title(f\"True Label = {true_label[i]}\")\n",
        "row=0\n",
        "for alg, data in final.items():\n",
        "  row += 1\n",
        "  predicted=softmax(dnn.predict(data)).argmax(axis=1)\n",
        "  \n",
        "  for j in range(n_to_show):\n",
        "    color=\"black\"\n",
        "    ax[row, j].imshow(data[j:j+1].reshape(28,28), cmap=\"gray\", )\n",
        "    if predicted[j] != true_label[j]:\n",
        "      color=\"red\"\n",
        "    ax[row, j].set_title(f\"{alg} label predicted {predicted[j]}\", color=color)\n",
        "\n",
        "plt.savefig(\"100-examples-same-MNIST.jpg\")\n",
        "plt.show()\n"
      ],
      "execution_count": null,
      "outputs": []
    },
    {
      "cell_type": "markdown",
      "metadata": {
        "id": "OO6gtW99vHos"
      },
      "source": [
        "### Hyperparams\n"
      ]
    },
    {
      "cell_type": "markdown",
      "metadata": {
        "id": "MYrOXChDvLin"
      },
      "source": [
        "#### Algorithm 1"
      ]
    },
    {
      "cell_type": "code",
      "metadata": {
        "id": "3QT3Kq_svLo7"
      },
      "source": [
        "n=36\n",
        "x, _, y_true_in = get_data(n, 4)\n",
        "epochs=50"
      ],
      "execution_count": null,
      "outputs": []
    },
    {
      "cell_type": "code",
      "metadata": {
        "id": "LXpv9iPjvLqy"
      },
      "source": [
        "v_list = [10**-1,10**-3,10**-5,10**-7,10**-9]\n",
        "alpha_list= [10**-1,10**-3,10**-5,10**-6,10**-7]\n",
        "loss_ZSCG_all = []\n",
        "x_ZSCG_all = []\n",
        "epochs=50\n",
        "for v in v_list:\n",
        "  for alpha in alpha_list: \n",
        "    print(f\"Computing ZSCG with v = {v} and alpha = {alpha}\")\n",
        "    loss_Z, x_Z,_=ZSCG(epochs, 784, 0.1, 30, x, y_true_in, v, alpha, verbose=False)\n",
        "    loss_ZSCG_all.append(loss_Z)\n",
        "    x_ZSCG_all.append(x_Z)\n",
        "\n",
        "\n"
      ],
      "execution_count": null,
      "outputs": []
    },
    {
      "cell_type": "code",
      "metadata": {
        "id": "W9sv7G4Q4mzX"
      },
      "source": [
        "table_ZSCG = nice_table(x_ZSCG_all, y_true_in, (\"V\", v_list), (\"Alpha\", alpha_list))\n",
        "print(table_ZSCG)"
      ],
      "execution_count": null,
      "outputs": []
    },
    {
      "cell_type": "code",
      "metadata": {
        "id": "lL5638Bu3fon"
      },
      "source": [
        "v_test_list=[10**-1, 10**-3, 10**-5, 10**-7]\n",
        "loss_list = []\n",
        "x_Z_list=[]\n",
        "for v_el in v_test_list:\n",
        "  l, x_Z_new,_=ZSCG(epochs, 784, 0.1, 30, x, y_true_in, v=v_el, alpha=10**-1, verbose=True)\n",
        "  loss_list.append(l)\n",
        "  x_Z_list.append(x_Z_new)"
      ],
      "execution_count": null,
      "outputs": []
    },
    {
      "cell_type": "code",
      "metadata": {
        "id": "jxYI_Wxk8H3f"
      },
      "source": [
        "plt.figure(figsize=(10,8))\n",
        "for i in range(len(loss_list)):\n",
        "  plt.plot(loss_list[i], label =f\"v={v_test_list[i]}\")  \n",
        "  plt.grid(\"on\")\n",
        "  plt.legend()\n",
        "plt.savefig(\"zscg_different_params.jpg\")\n",
        "plt.show()"
      ],
      "execution_count": null,
      "outputs": []
    },
    {
      "cell_type": "markdown",
      "metadata": {
        "id": "t05RNS_Ht0Ff"
      },
      "source": [
        "#### Algorithm 2"
      ]
    },
    {
      "cell_type": "code",
      "metadata": {
        "id": "2wG9wzGL6NPE"
      },
      "source": [
        "gamma_list = [10**-1,10**-3,10**-5,10**-7]\n",
        "mu_list= [10**-1,10**-3,10**-5,10**-7]\n",
        "loss_FZFW_all = []\n",
        "x_FZFW_all = []\n",
        "epochs=50\n",
        "for gamma in gamma_list:\n",
        "  for mu in mu_list: \n",
        "    print(f\"Computing FZFW with gamma = {gamma} and mu = {mu}\")\n",
        "    loss_FZFW, x_FZFW, _=FZFW(epochs, 784, n,0.1,  gamma, mu,x, y_true_in, verbose=False)\n",
        "    loss_FZFW_all.append(loss_FZFW)\n",
        "    x_FZFW_all.append(x_FZFW)\n",
        "\n"
      ],
      "execution_count": null,
      "outputs": []
    },
    {
      "cell_type": "code",
      "metadata": {
        "id": "nfnZ0rIOBhKK"
      },
      "source": [
        "table_FZFW = nice_table(x_FZFW_all, y_true_in, (\"Gamma\", gamma_list), (\"Mu\", mu_list))\n",
        "print(table_FZFW)"
      ],
      "execution_count": null,
      "outputs": []
    },
    {
      "cell_type": "code",
      "metadata": {
        "id": "n_4Sbw4eARmC"
      },
      "source": [
        "mu_test_list=[10**-1, 10**-3, 10**-5]\n",
        "loss_list = []\n",
        "x_F_list=[]\n",
        "for mu_el in mu_test_list:\n",
        "  l, x_F_new,_=FZFW(epochs, 784, n,0.1,  gamma=0.1, mu=mu_el,x=x, y_true_in=y_true_in, verbose=True)\n",
        "  loss_list.append(l)\n",
        "  x_F_list.append(x_F_new)"
      ],
      "execution_count": null,
      "outputs": []
    },
    {
      "cell_type": "code",
      "metadata": {
        "id": "_5atUpeGApsF"
      },
      "source": [
        "plt.figure(figsize=(10,8))\n",
        "for i in range(len(loss_list)):\n",
        "  plt.plot(loss_list[i], label =f\"mu={mu_test_list[i]}\")  \n",
        "  plt.grid(\"on\")\n",
        "  plt.legend()\n",
        "plt.savefig(\"fzfw_different_params.jpg\")\n",
        "plt.show()"
      ],
      "execution_count": null,
      "outputs": []
    },
    {
      "cell_type": "markdown",
      "metadata": {
        "id": "2waFyJByt63p"
      },
      "source": [
        "#### Algorithm 3"
      ]
    },
    {
      "cell_type": "code",
      "metadata": {
        "id": "VzNfmO_C7Rxb"
      },
      "source": [
        "eta_list= [10**-1,10**-3,10**-5,10**-7]\n",
        "\n",
        "loss_FZCGS_all = []\n",
        "x_FZCGS_all = []\n",
        "epochs=50\n",
        "gamma_final = 0.1\n",
        "mu_final = [10**-1, 10**-3, 10**-5]\n",
        "for mu in mu_final:\n",
        "  for eta in eta_list: \n",
        "    print(f\"Computing FZFW with gamma = {gamma_final} , mu = {mu} and eta = {eta}\")\n",
        "    loss_FZCGS, x_FZCGS,_=FZCGS(epochs, 784, n,0.1, gamma_final, mu, eta, x, y_true_in,verbose=False)\n",
        "    loss_FZCGS_all.append(loss_FZCGS)\n",
        "    x_FZCGS_all.append(x_FZCGS)\n",
        "\n"
      ],
      "execution_count": null,
      "outputs": []
    },
    {
      "cell_type": "code",
      "metadata": {
        "id": "sNmmukcjUfwg"
      },
      "source": [
        "table_FZCGS = nice_table(x_FZCGS_all, y_true_in, (\"Mu\", mu_list), (\"Eta\", eta_list),)\n",
        "print(table_FZCGS)"
      ],
      "execution_count": null,
      "outputs": []
    },
    {
      "cell_type": "code",
      "metadata": {
        "id": "iLlXT87VFb-7"
      },
      "source": [
        "plt.figure(figsize=(10,8))\n",
        "j=0\n",
        "for i in range(4):\n",
        "    plt.plot(loss_FZCGS_all[i+8], label =f\"mu={mu_final[2]} ; eta= {eta_list[i]}\")  \n",
        "    plt.grid(\"on\")\n",
        "    plt.legend()\n",
        "plt.savefig(\"fzscg_different_params_3.jpg\")\n",
        "plt.show()"
      ],
      "execution_count": null,
      "outputs": []
    },
    {
      "cell_type": "markdown",
      "metadata": {
        "id": "tUE1GX8O5OZM"
      },
      "source": [
        "### Different mk"
      ]
    },
    {
      "cell_type": "code",
      "metadata": {
        "id": "L43pJEK55TgN"
      },
      "source": [
        "n=16\n",
        "x, _, y_true_in = get_data(n, 4)\n",
        "epochs=50\n",
        "\n"
      ],
      "execution_count": null,
      "outputs": []
    },
    {
      "cell_type": "code",
      "metadata": {
        "id": "herjQIst5Tie"
      },
      "source": [
        "F(x, y_true_in)\n"
      ],
      "execution_count": null,
      "outputs": []
    },
    {
      "cell_type": "code",
      "metadata": {
        "id": "XgaAUHj55TlW"
      },
      "source": [
        "q= [1,10,20,30,100]\n",
        "loss_all_q = []\n",
        "x_pert_q = []\n",
        "pert_q = []\n",
        "for elq in q:\n",
        "  loss_Z, x_Z, p1=ZSCG(epochs, 784, 0.1,elq, x, y_true_in,verbose=True)\n",
        "  loss_all_q.append(loss_Z)\n",
        "  x_pert_q.append(x_Z)\n",
        "  pert_q.append(p1)\n",
        "\n"
      ],
      "execution_count": null,
      "outputs": []
    },
    {
      "cell_type": "code",
      "metadata": {
        "id": "fkt-ojzK6wK_"
      },
      "source": [
        "plt.figure(figsize=(10,8))\n",
        "for i in range(len(loss_all_q)):\n",
        "  plt.plot(loss_all_q[i],label=f\"q = {q[i]}\" )\n",
        "  plt.grid(\"on\")\n",
        "  plt.legend()\n",
        "\n",
        "plt.savefig(\"zscg_diff_q_n_16.jpg\")\n",
        "plt.show()"
      ],
      "execution_count": null,
      "outputs": []
    },
    {
      "cell_type": "code",
      "metadata": {
        "id": "zJOsf_KU9Bwc"
      },
      "source": [
        ""
      ],
      "execution_count": null,
      "outputs": []
    },
    {
      "cell_type": "code",
      "metadata": {
        "id": "eHshqvkY9By4"
      },
      "source": [
        ""
      ],
      "execution_count": null,
      "outputs": []
    },
    {
      "cell_type": "code",
      "metadata": {
        "id": "mRjYxa8G9B8t"
      },
      "source": [
        "n=16\n",
        "x = np.copy(x_test[:n])\n",
        "x_ori=np.copy(x)\n",
        "y_true_in = np.copy(y_test[:n])\n",
        "epochs=50"
      ],
      "execution_count": null,
      "outputs": []
    },
    {
      "cell_type": "code",
      "metadata": {
        "id": "sBkTs_Ll9JYy"
      },
      "source": [
        "F(x, y_true_in)\n"
      ],
      "execution_count": null,
      "outputs": []
    },
    {
      "cell_type": "code",
      "metadata": {
        "id": "_K0nVrKP9JbD"
      },
      "source": [
        "q= [1,10,20,30,100]\n",
        "loss_all_q = []\n",
        "x_pert_q = []\n",
        "pert_q = []\n",
        "for elq in q:\n",
        "  loss_Z, x_Z, p1=ZSCG(epochs, 784, 0.1,elq, x, y_true_in,verbose=True)\n",
        "  loss_all_q.append(loss_Z)\n",
        "  x_pert_q.append(x_Z)\n",
        "  pert_q.append(p1)\n",
        "\n"
      ],
      "execution_count": null,
      "outputs": []
    },
    {
      "cell_type": "code",
      "metadata": {
        "id": "RWNKVFPM9OGk"
      },
      "source": [
        "plt.figure(figsize=(10,8))\n",
        "for i in range(len(loss_all_q)):\n",
        "  plt.plot(loss_all_q[i],label=f\"q = {q[i]}\" )\n",
        "  plt.grid(\"on\")\n",
        "  plt.legend()\n",
        "\n",
        "plt.savefig(\"zscg_diff_q_n_16_diff_class.jpg\")\n",
        "plt.show()"
      ],
      "execution_count": null,
      "outputs": []
    },
    {
      "cell_type": "markdown",
      "metadata": {
        "id": "069Zq0ik9X4A"
      },
      "source": [
        "### Clips vs No Clip"
      ]
    },
    {
      "cell_type": "markdown",
      "metadata": {
        "id": "C1-H2gp8C4eK"
      },
      "source": [
        "#### Same class"
      ]
    },
    {
      "cell_type": "code",
      "metadata": {
        "id": "NSPG-zQb9acl"
      },
      "source": [
        "n=16\n",
        "x, _, y_true_in = get_data(n, 4)\n",
        "epochs=50\n",
        "\n"
      ],
      "execution_count": null,
      "outputs": []
    },
    {
      "cell_type": "code",
      "metadata": {
        "id": "ux4RZTPk9afn"
      },
      "source": [
        "loss_Z, x_Z,_=ZSCG(epochs, 784, 0.1, 30, x, y_true_in,-1,-1, verbose=True, clip = True)\n",
        "loss_FZ, x_FZ,_=FZFW(epochs, 784,n, 0.1,-1,-1 ,x, y_true_in, verbose=True, clip = True)\n",
        "loss_FZC, x_FZC,_=FZCGS(epochs, 784,n, 0.1, -1,-1,-1,x, y_true_in, verbose=True, clip = True)\n"
      ],
      "execution_count": null,
      "outputs": []
    },
    {
      "cell_type": "code",
      "metadata": {
        "id": "GiueiphgBbex"
      },
      "source": [
        "graph1=plot_all(loss_Z, loss_FZ, loss_FZC, epochs, n, title=\"CLIP\", savefig=\"clip.jpg\")"
      ],
      "execution_count": null,
      "outputs": []
    },
    {
      "cell_type": "code",
      "metadata": {
        "id": "ldcx7lcMBbhv"
      },
      "source": [
        ""
      ],
      "execution_count": null,
      "outputs": []
    },
    {
      "cell_type": "code",
      "metadata": {
        "id": "sChuxcLdBQz8"
      },
      "source": [
        "loss_Z_noclip, x_Z_noclip,_=ZSCG(epochs, 784, 0.1, 30, x, y_true_in,-1,-1, verbose=True, clip = False)\n",
        "loss_FZ_noclip, x_FZ_noclip,_=FZFW(epochs, 784,n, 0.1,-1,-1 ,x, y_true_in, verbose=True, clip = False)\n",
        "loss_FZC_noclip, x_FZC_noclip,_=FZCGS(epochs, 784,n, 0.1, -1,-1,-1,x, y_true_in, verbose=True, clip = False)\n"
      ],
      "execution_count": null,
      "outputs": []
    },
    {
      "cell_type": "code",
      "metadata": {
        "id": "9eR09gEPBj8N"
      },
      "source": [
        "plot_all(loss_Z_noclip, loss_FZ_noclip, loss_FZC_noclip, epochs, n, title=\"NO CLIP\", savefig=\"noclip.jpg\")"
      ],
      "execution_count": null,
      "outputs": []
    },
    {
      "cell_type": "markdown",
      "metadata": {
        "id": "TwqLL6_AC7f9"
      },
      "source": [
        "#### Different class"
      ]
    },
    {
      "cell_type": "code",
      "metadata": {
        "id": "0qQf1z60C-Wn"
      },
      "source": [
        "n=16\n",
        "x = np.copy(x_test[:n])\n",
        "x_ori=np.copy(x)\n",
        "y_true_in=  np.copy(y_test[:n])\n",
        "epochs=50"
      ],
      "execution_count": null,
      "outputs": []
    },
    {
      "cell_type": "code",
      "metadata": {
        "id": "U7GKWWzxHFgJ"
      },
      "source": [
        "y_true_in.argmax(axis=1)"
      ],
      "execution_count": null,
      "outputs": []
    },
    {
      "cell_type": "code",
      "metadata": {
        "id": "8RjH6SiJC-Zh"
      },
      "source": [
        "loss_Z, x_Z,_=ZSCG(epochs, 784, 0.1, 30, x, y_true_in,-1,-1, verbose=True, clip = True)\n",
        "loss_FZ, x_FZ,_=FZFW(epochs, 784,n, 0.1,-1,-1 ,x, y_true_in, verbose=True, clip = True)\n",
        "loss_FZC, x_FZC,_=FZCGS(epochs, 784,n, 0.1, -1,-1,-1,x, y_true_in, verbose=True, clip = True)\n"
      ],
      "execution_count": null,
      "outputs": []
    },
    {
      "cell_type": "code",
      "metadata": {
        "id": "aDyVpNGZC-cb"
      },
      "source": [
        "plot_all(loss_Z, loss_FZ, loss_FZC, epochs, n, title=\"CLIP\", savefig=\"clip_diffclass.jpg\")"
      ],
      "execution_count": null,
      "outputs": []
    },
    {
      "cell_type": "code",
      "metadata": {
        "id": "5AFvUL5zC-fT"
      },
      "source": [
        "loss_Z_noclip, x_Z_noclip,_=ZSCG(epochs, 784, 0.1, 30, x, y_true_in,-1,-1, verbose=True, clip = False)\n",
        "loss_FZ_noclip, x_FZ_noclip,_=FZFW(epochs, 784,n, 0.1,-1,-1 ,x, y_true_in, verbose=True, clip = False)\n",
        "loss_FZC_noclip, x_FZC_noclip,_=FZCGS(epochs, 784,n, 0.1, -1,-1,-1,x, y_true_in, verbose=True, clip = False)\n"
      ],
      "execution_count": null,
      "outputs": []
    },
    {
      "cell_type": "code",
      "metadata": {
        "id": "116UqkucDNff"
      },
      "source": [
        "plot_all(loss_Z_noclip, loss_FZ_noclip, loss_FZC_noclip, epochs, n, title=\"NO CLIP\", savefig=\"noclip_diffclass.jpg\")"
      ],
      "execution_count": null,
      "outputs": []
    },
    {
      "cell_type": "markdown",
      "metadata": {
        "id": "izbolpfMCx--"
      },
      "source": [
        "### Perturbations vs Accuracy"
      ]
    },
    {
      "cell_type": "markdown",
      "metadata": {
        "id": "LbPOG2bZQUMV"
      },
      "source": [
        "#### Same Class"
      ]
    },
    {
      "cell_type": "code",
      "metadata": {
        "id": "7E3VrNg0C1eL"
      },
      "source": [
        "n=64\n",
        "x, x_ori, y_true_in = get_data(n, 4)\n",
        "epochs=50\n",
        "\n"
      ],
      "execution_count": null,
      "outputs": []
    },
    {
      "cell_type": "code",
      "metadata": {
        "id": "2nHKv3CfC1go"
      },
      "source": [
        "loss_Z_, x_Z,p1=ZSCG(epochs, 784, 0.1, 30, x, y_true_in,-1,-1, verbose=True, clip = False)\n",
        "loss_FZ, x_FZ,p2=FZFW(epochs, 784,n, 0.1,-1,-1 ,x, y_true_in, verbose=True, clip = False)\n",
        "loss_FZC, x_FZC,p3=FZCGS(epochs, 784,n, 0.1, -1,-1,-1,x, y_true_in, verbose=True, clip = False)\n"
      ],
      "execution_count": null,
      "outputs": []
    },
    {
      "cell_type": "code",
      "metadata": {
        "id": "_4wGrpSiGOUy"
      },
      "source": [
        "def data_for_perturbations_plot(perturbations, x_ori, y_true_in):\n",
        "  acc_list=[]\n",
        "  dist=[]\n",
        "  for pert in perturbations:\n",
        "    asr=attack_success_rate(pert, y_true_in)\n",
        "    distorsion=np.round(np.max(np.abs(pert-x_ori)),5)\n",
        "    acc_list.append(asr)\n",
        "    dist.append(distorsion)\n",
        "\n",
        "\n",
        "  return dist, acc_list\n",
        "\n",
        "\n"
      ],
      "execution_count": null,
      "outputs": []
    },
    {
      "cell_type": "code",
      "metadata": {
        "id": "QKBLpeHAJjeO"
      },
      "source": [
        "dist1, acc_list1 = data_for_perturbations_plot(p1, x_ori, y_true_in)\n",
        "dist2, acc_list2 = data_for_perturbations_plot(p2, x_ori, y_true_in)\n",
        "dist3, acc_list3 = data_for_perturbations_plot(p3, x_ori, y_true_in)\n",
        "\n",
        "\n"
      ],
      "execution_count": null,
      "outputs": []
    },
    {
      "cell_type": "code",
      "metadata": {
        "id": "fJoIOrE2PfKg"
      },
      "source": [
        "plt.figure(figsize=(10,8))\n",
        "plt.plot(dist1, acc_list1, label = f\"ZSCG with {n} examples\")\n",
        "plt.plot(dist2, acc_list2, label = f\"FZFW with {n} examples\")\n",
        "plt.plot(dist3, acc_list3, label = f\"FZCGS with {n} examples\")\n",
        "plt.xlabel(\"perturbations\")\n",
        "plt.ylabel(\"ASR (%)\")\n",
        "plt.legend()\n",
        "plt.grid(\"On\")\n",
        "plt.savefig(\"pert_asr_n512_sameclass.jpg\")"
      ],
      "execution_count": null,
      "outputs": []
    },
    {
      "cell_type": "markdown",
      "metadata": {
        "id": "pxxoS-pBQXMm"
      },
      "source": [
        "#### Different Class"
      ]
    },
    {
      "cell_type": "code",
      "metadata": {
        "id": "JtbNc63rQdB8"
      },
      "source": [
        "n=64\n",
        "x = np.copy(x_test[:n])\n",
        "x_ori=np.copy(x)\n",
        "y_true_in = np.copy(y_test[:n])\n",
        "epochs=50"
      ],
      "execution_count": null,
      "outputs": []
    },
    {
      "cell_type": "code",
      "metadata": {
        "id": "XdsMNO3oQd-G"
      },
      "source": [
        "loss_Z_, x_Z,p1=ZSCG(epochs, 784, 0.1, 30, x, y_true_in,-1,-1, verbose=True, clip = False)\n",
        "loss_FZ, x_FZ,p2=FZFW(epochs, 784,n, 0.1,-1,-1 ,x, y_true_in, verbose=True, clip = False)\n",
        "loss_FZC, x_FZC,p3=FZCGS(epochs, 784,n, 0.1, -1,-1,-1,x, y_true_in, verbose=True, clip = False)\n"
      ],
      "execution_count": null,
      "outputs": []
    },
    {
      "cell_type": "code",
      "metadata": {
        "id": "5q3-oGkVQlQy"
      },
      "source": [
        "dist1, acc_list1 = data_for_perturbations_plot(p1, x_ori, y_true_in)\n",
        "dist2, acc_list2 = data_for_perturbations_plot(p2, x_ori, y_true_in)\n",
        "dist3, acc_list3 = data_for_perturbations_plot(p3, x_ori, y_true_in)\n",
        "\n",
        "\n"
      ],
      "execution_count": null,
      "outputs": []
    },
    {
      "cell_type": "code",
      "metadata": {
        "id": "wxlJWC7204Xt"
      },
      "source": [
        ""
      ],
      "execution_count": null,
      "outputs": []
    },
    {
      "cell_type": "code",
      "metadata": {
        "id": "GUVkgnFc04cQ"
      },
      "source": [
        ""
      ],
      "execution_count": null,
      "outputs": []
    },
    {
      "cell_type": "code",
      "metadata": {
        "id": "qvbD8iJUQmpv"
      },
      "source": [
        "plt.figure(figsize=(10,8))\n",
        "plt.plot(dist1, acc_list1, label = f\"ZSCG with {n} examples\")\n",
        "plt.plot(dist2, acc_list2, label = f\"FZFW with {n} examples\")\n",
        "plt.plot(dist3, acc_list3, label = f\"FZCGS with {n} examples\")\n",
        "plt.xlabel(\"perturbations\")\n",
        "plt.ylabel(\"ASR (%)\")\n",
        "plt.legend()\n",
        "plt.grid(\"On\")\n",
        "plt.savefig(\"pert_asr_n64_diffclass.jpg\")"
      ],
      "execution_count": null,
      "outputs": []
    },
    {
      "cell_type": "code",
      "metadata": {
        "id": "M5-Kh94n05Fu"
      },
      "source": [
        "dist1, acc_list1 = data_for_perturbations_plot(p1_2, x_ori, y_true_in)\n",
        "dist2, acc_list2 = data_for_perturbations_plot(p2_2, x_ori, y_true_in)\n",
        "dist3, acc_list3 = data_for_perturbations_plot(p3_2, x_ori, y_true_in)\n",
        "\n",
        "\n"
      ],
      "execution_count": null,
      "outputs": []
    },
    {
      "cell_type": "code",
      "metadata": {
        "id": "-jMXT2kI0_Vx"
      },
      "source": [
        "plt.figure(figsize=(10,8))\n",
        "plt.plot(dist1, acc_list1, label = f\"ZSCG with {n} examples\")\n",
        "plt.plot(dist2, acc_list2, label = f\"FZFW with {n} examples\")\n",
        "plt.plot(dist3, acc_list3, label = f\"FZCGS with {n} examples\")\n",
        "plt.xlabel(\"perturbations\")\n",
        "plt.ylabel(\"ASR (%)\")\n",
        "plt.legend()\n",
        "plt.grid(\"On\")\n",
        "plt.savefig(\"pert_asr_n512_diffclass.jpg\")"
      ],
      "execution_count": null,
      "outputs": []
    },
    {
      "cell_type": "code",
      "metadata": {
        "id": "aR7zZF-H1K-C"
      },
      "source": [
        "acc_list1"
      ],
      "execution_count": null,
      "outputs": []
    },
    {
      "cell_type": "markdown",
      "metadata": {
        "id": "dDkucogS6MTi"
      },
      "source": [
        "### Attack ZSCG with q = 1 and increasing sample size"
      ]
    },
    {
      "cell_type": "code",
      "metadata": {
        "id": "WkTIMWlr6SOZ"
      },
      "source": [
        "size= [16,128, 256,512]\n",
        "\n",
        "epochs=50\n",
        "\n",
        "\n",
        "loss_all_q = []\n",
        "x_pert_q = []\n",
        "pert_q = []\n",
        "for elsize in size:\n",
        "  n=elsize\n",
        "  x, x_ori, y_true_in = get_data(n, 4)\n",
        "  loss_Z, x_Z, p1=ZSCG(epochs, 784, 0.1,1, x, y_true_in,verbose=True)\n",
        "  loss_all_q.append(loss_Z)\n",
        "  x_pert_q.append(x_Z)\n",
        "  pert_q.append(p1)\n",
        "\n"
      ],
      "execution_count": null,
      "outputs": []
    },
    {
      "cell_type": "code",
      "metadata": {
        "id": "WrLhSqgq5Tol"
      },
      "source": [
        "plt.figure(figsize=(10,8))\n",
        "plt.xlabel(\"iterations\")\n",
        "plt.ylabel(\"loss\")\n",
        "  \n",
        "for i in range(len(size)):\n",
        "\n",
        "  plt.plot(loss_all_q[i] ,label = f\"ZSCG with {size[i]} examples and q = 1\")\n",
        "  \n",
        "  \n",
        "  \n",
        "plt.legend()\n",
        "plt.grid(\"On\")\n",
        "plt.savefig(\"zscg_diff_examples_q_1.jpg\")\n",
        "plt.show()"
      ],
      "execution_count": null,
      "outputs": []
    },
    {
      "cell_type": "markdown",
      "metadata": {
        "id": "IzRhp_2AjBT5"
      },
      "source": [
        "### Change Distorsion"
      ]
    },
    {
      "cell_type": "markdown",
      "metadata": {
        "id": "kquEw5nWjf8N"
      },
      "source": [
        "#### Distorsion = 0.2"
      ]
    },
    {
      "cell_type": "code",
      "metadata": {
        "id": "ga99YAa3jAlZ"
      },
      "source": [
        "n=16\n",
        "x, _, y_true_in = get_data(n, 4)\n",
        "epochs=100"
      ],
      "execution_count": null,
      "outputs": []
    },
    {
      "cell_type": "code",
      "metadata": {
        "id": "xSO7gk9RjApI"
      },
      "source": [
        "loss_Z, x_Z=ZSCG(epochs, 784, 0.2, 30, x, y_true_in, verbose=True)\n",
        "loss_FZ, x_FZ=FZFW(epochs, 784,n, 0.2, x, y_true_in, verbose=True)\n",
        "loss_FZC, x_FZC=FZCGS(epochs, 784,n, 0.2, x, y_true_in, verbose=True)\n"
      ],
      "execution_count": null,
      "outputs": []
    },
    {
      "cell_type": "code",
      "metadata": {
        "id": "rtY6nuXIjV9t"
      },
      "source": [
        "plot_all(loss_Z, loss_FZ, loss_FZC, epochs)"
      ],
      "execution_count": null,
      "outputs": []
    },
    {
      "cell_type": "code",
      "metadata": {
        "id": "9DcXW-FNjV_m"
      },
      "source": [
        "from tabulate import tabulate\n",
        "asr_alg1=attack_success_rate(x_Z, x)\n",
        "asr_alg2=attack_success_rate(x_FZ, x)\n",
        "asr_alg3=attack_success_rate(x_FZC, x)\n",
        "\n",
        "\n",
        "print(tabulate([['ZSCG', asr_alg1], ['FZFW', asr_alg2], ['FZF-CGS', asr_alg3]], headers=['Algorithm', 'ASR (%)'], tablefmt='orgtbl'))"
      ],
      "execution_count": null,
      "outputs": []
    },
    {
      "cell_type": "code",
      "metadata": {
        "id": "VuV_S4PMjWBs"
      },
      "source": [
        "final = {\"ZSCG\": x_Z, \"FZFW\": x_FZ, \"FZCGS\": x_FZC}\n",
        "true_label = list(softmax(dnn.predict(x)).argmax(axis=1))\n",
        "fig, ax = plt.subplots(4, n, figsize=(30,18))\n",
        "for i in range(x.shape[0]):\n",
        "  ax[0, i].imshow(x[i:i+1].reshape(28,28), cmap=\"gray\")\n",
        "  ax[0,i].set_title(f\"True Label = {true_label[i]}\")\n",
        "row=0\n",
        "for alg, data in final.items():\n",
        "  row += 1\n",
        "  predicted=softmax(dnn.predict(data)).argmax(axis=1)\n",
        "  \n",
        "  for j in range(n):\n",
        "    color=\"black\"\n",
        "    ax[row, j].figure\n",
        "    ax[row, j].imshow(data[j:j+1].reshape(28,28), cmap=\"gray\", )\n",
        "    if predicted[j] != true_label[j]:\n",
        "      color=\"red\"\n",
        "    ax[row, j].set_title(f\"{alg} label predicted {predicted[j]}\", color=color)\n",
        "\n",
        "\n",
        "plt.show()"
      ],
      "execution_count": null,
      "outputs": []
    },
    {
      "cell_type": "markdown",
      "metadata": {
        "id": "DIqua_zhjkLd"
      },
      "source": [
        "#### Distorsion = 0.3"
      ]
    },
    {
      "cell_type": "code",
      "metadata": {
        "id": "d_YwrAhojWDo"
      },
      "source": [
        "n=9\n",
        "x, _, y_true_in = get_data(n, 4)\n",
        "epochs=100\n"
      ],
      "execution_count": null,
      "outputs": []
    },
    {
      "cell_type": "code",
      "metadata": {
        "id": "sIjw-2jVjm-D"
      },
      "source": [
        "loss_Z, x_Z=ZSCG(epochs, 784, 0.3, 100, x, y_true_in, verbose=True)\n",
        "loss_FZ, x_FZ=FZFW(epochs, 784,n, 0.3, x, y_true_in, verbose=True)\n",
        "loss_FZC, x_FZC=FZCGS(epochs, 784,n, 0.3, x, y_true_in, verbose=True)\n"
      ],
      "execution_count": null,
      "outputs": []
    },
    {
      "cell_type": "code",
      "metadata": {
        "id": "dk5DD0FBjm_s"
      },
      "source": [
        "plot_all(loss_Z, loss_FZ, loss_FZC, epochs)"
      ],
      "execution_count": null,
      "outputs": []
    },
    {
      "cell_type": "code",
      "metadata": {
        "id": "DW66WsqCjnBr"
      },
      "source": [
        "from tabulate import tabulate\n",
        "asr_alg1=attack_success_rate(x_Z, x)\n",
        "asr_alg2=attack_success_rate(x_FZ, x)\n",
        "asr_alg3=attack_success_rate(x_FZC, x)\n",
        "\n",
        "\n",
        "print(tabulate([['ZSCG', asr_alg1], ['FZFW', asr_alg2], ['FZF-CGS', asr_alg3]], headers=['Algorithm', 'ASR (%)'], tablefmt='orgtbl'))"
      ],
      "execution_count": null,
      "outputs": []
    },
    {
      "cell_type": "code",
      "metadata": {
        "id": "_UR3hgXOjnDj"
      },
      "source": [
        "final = {\"ZSCG\": x_Z, \"FZFW\": x_FZ, \"FZCGS\": x_FZC}\n",
        "true_label = list(softmax(dnn.predict(x)).argmax(axis=1))\n",
        "fig, ax = plt.subplots(4, n, figsize=(30,18))\n",
        "for i in range(x.shape[0]):\n",
        "  ax[0, i].imshow(x[i:i+1].reshape(28,28), cmap=\"gray\")\n",
        "  ax[0,i].set_title(f\"True Label = {true_label[i]}\")\n",
        "row=0\n",
        "for alg, data in final.items():\n",
        "  row += 1\n",
        "  predicted=softmax(dnn.predict(data)).argmax(axis=1)\n",
        "  \n",
        "  for j in range(n):\n",
        "    color=\"black\"\n",
        "    ax[row, j].figure\n",
        "    ax[row, j].imshow(data[j:j+1].reshape(28,28), cmap=\"gray\", )\n",
        "    if predicted[j] != true_label[j]:\n",
        "      color=\"red\"\n",
        "    ax[row, j].set_title(f\"{alg} label predicted {predicted[j]}\", color=color)\n",
        "\n",
        "\n",
        "plt.show()"
      ],
      "execution_count": null,
      "outputs": []
    },
    {
      "cell_type": "code",
      "metadata": {
        "id": "N47S2m70Vj1t"
      },
      "source": [
        "\n"
      ],
      "execution_count": null,
      "outputs": []
    },
    {
      "cell_type": "code",
      "metadata": {
        "id": "5FT41C9aV1X4"
      },
      "source": [
        "loss_Z2, x_Z2,p1_2=ZSCG(epochs, 784, 0.1, 1, x, y_true_in,-1,-1, verbose=True)\n",
        "loss_FZ2, x_FZ2,p2_2=FZFW(epochs, 784,n, 0.1,-1,-1 ,x, y_true_in, verbose=True)\n",
        "loss_FZC2, x_FZC2,p3_2=FZCGS(epochs, 784,n, 0.1, -1,-1,-1,x, y_true_in, verbose=True)\n"
      ],
      "execution_count": null,
      "outputs": []
    }
  ]
}